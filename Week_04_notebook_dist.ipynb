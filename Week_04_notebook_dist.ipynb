{
 "cells": [
  {
   "cell_type": "markdown",
   "metadata": {},
   "source": [
    "# Import libraries"
   ]
  },
  {
   "cell_type": "code",
   "execution_count": null,
   "metadata": {
    "collapsed": true
   },
   "outputs": [],
   "source": [
    "import cv2\n",
    "import numpy as np\n",
    "from matplotlib import pyplot as plt\n",
    "%matplotlib inline"
   ]
  },
  {
   "cell_type": "code",
   "execution_count": null,
   "metadata": {
    "collapsed": true
   },
   "outputs": [],
   "source": [
    "\n",
    "# create a random, grayscale, integer (uint8) image\n",
    "I = np.random.randint(0,256,size=(256,256));\n",
    "I.shape\n",
    "type(I)\n",
    "I.dtype\n",
    "_ = type(I)\n",
    "Iuint8=I.astype('uint8')\n",
    "Iuint8.dtype\n",
    "_ = plt.imshow(I,plt.cm.gray)"
   ]
  },
  {
   "cell_type": "code",
   "execution_count": null,
   "metadata": {
    "collapsed": true
   },
   "outputs": [],
   "source": [
    "### Creating a random color image\n",
    "rand_im = np.random.randn(*(600,600,3))\n",
    "rand_im=rand_im-np.min(rand_im)\n",
    "rand_im=rand_im/np.max(rand_im)\n",
    "np.min(rand_im)\n",
    "np.max(rand_im)\n",
    "rand_im.shape\n",
    "type(rand_im)\n",
    "_  = plt.imshow(rand_im)\n",
    "%ls"
   ]
  },
  {
   "cell_type": "markdown",
   "metadata": {},
   "source": [
    "### Load an image"
   ]
  },
  {
   "cell_type": "code",
   "execution_count": null,
   "metadata": {
    "collapsed": true
   },
   "outputs": [],
   "source": [
    "# read image using opencv\n",
    "toucan_im_int = cv2.imread('../images/Toucan.jpg')\n",
    "\n",
    "# convert from BGR to RGB \n",
    "toucan_im_int = cv2.cvtColor(toucan_im_int,cv2.COLOR_BGR2RGB)\n",
    "\n",
    "# make a copy containing float values between 0 and 1 instead of integer between 0 and 255\n",
    "toucan_im=toucan_im_int.copy().astype('float')/255"
   ]
  },
  {
   "cell_type": "code",
   "execution_count": null,
   "metadata": {
    "collapsed": true
   },
   "outputs": [],
   "source": [
    "a = list([0,1,2,3,4])\n",
    "b = a.copy()\n",
    "b\n",
    "a\n",
    "b[2] = -2\n",
    "b\n",
    "a\n",
    "b is a"
   ]
  },
  {
   "cell_type": "markdown",
   "metadata": {},
   "source": [
    "### Displaying an image"
   ]
  },
  {
   "cell_type": "code",
   "execution_count": null,
   "metadata": {
    "collapsed": true
   },
   "outputs": [],
   "source": [
    "# color image\n",
    "_ = plt.figure(figsize=(20,15))\n",
    "\n",
    "# show the color image\n",
    "ax = plt.subplot2grid((3,3),(0,0),rowspan=3,colspan=2)\n",
    "_ = ax.imshow(toucan_im)\n",
    "_ = ax.axis('off')\n",
    "\n",
    "# show the red image\n",
    "ax = plt.subplot2grid((3,3),(0,2))\n",
    "toucan_im_r = toucan_im.copy()\n",
    "toucan_im_r[:,:,[1,2]]=0\n",
    "_ = ax.imshow(toucan_im_r)\n",
    "_ = ax.axis('off')\n",
    "\n",
    "# show the green image\n",
    "ax = plt.subplot2grid((3,3),(1,2))\n",
    "toucan_im_g = toucan_im.copy()\n",
    "toucan_im_g[:,:,[0,2]]=0\n",
    "_ = ax.imshow(toucan_im_g)\n",
    "_ = ax.axis('off')\n",
    "\n",
    "# show the blue image\n",
    "ax = plt.subplot2grid((3,3),(2,2))\n",
    "toucan_im_b = toucan_im.copy()\n",
    "toucan_im_b[:,:,[0,1]]=0\n",
    "_ = ax.imshow(toucan_im_b)\n",
    "_ = ax.axis('off')\n"
   ]
  },
  {
   "cell_type": "markdown",
   "metadata": {},
   "source": [
    "### Convert an image to gradscale as display it"
   ]
  },
  {
   "cell_type": "code",
   "execution_count": null,
   "metadata": {
    "collapsed": true
   },
   "outputs": [],
   "source": [
    "# color image\n",
    "_ = plt.figure(figsize=(10,8))\n",
    "\n",
    "# convert image to grayscale\n",
    "toucan_im_gray = cv2.cvtColor(toucan_im_int,cv2.COLOR_RGB2GRAY)\n",
    "\n",
    "# show the image in grayscale\n",
    "_ = plt.imshow(toucan_im_gray, plt.cm.gray)\n",
    "_ = plt.axis('off')"
   ]
  },
  {
   "cell_type": "markdown",
   "metadata": {},
   "source": [
    "# Loading an Image in Grayscale"
   ]
  },
  {
   "cell_type": "code",
   "execution_count": null,
   "metadata": {
    "collapsed": true,
    "scrolled": true
   },
   "outputs": [],
   "source": [
    "# load an image in grayscale\n",
    "cat_gray = cv2.imread('../images/cat.jpg',cv2.IMREAD_GRAYSCALE)\n",
    "plt.imshow(cat_gray, plt.cm.gray)\n",
    "plt.show()\n",
    "type(cat_gray)\n",
    "cat_gray.shape"
   ]
  },
  {
   "cell_type": "markdown",
   "metadata": {},
   "source": [
    "# Loading an Image as-it-is"
   ]
  },
  {
   "cell_type": "code",
   "execution_count": null,
   "metadata": {
    "collapsed": true
   },
   "outputs": [],
   "source": [
    "# load an image as it is\n",
    "im = cv2.imread('../images/cat.jpg')\n",
    "plt.imshow(im)\n",
    "plt.show()\n",
    "type(im)\n",
    "im.shape"
   ]
  },
  {
   "cell_type": "markdown",
   "metadata": {},
   "source": [
    "### Swapping the BGR channels to make the image RGB"
   ]
  },
  {
   "cell_type": "code",
   "execution_count": null,
   "metadata": {
    "collapsed": true
   },
   "outputs": [],
   "source": [
    "# opencv loads image in bgr format, but plt shows in rgb\n",
    "plt.figure(figsize=(20,8));   # create figure with custom size\n",
    "\n",
    "# swap channels using opencv\n",
    "plt.subplot(141);    # use subplots\n",
    "plt.imshow(cv2.cvtColor(im, cv2.COLOR_BGR2RGB));   \n",
    "plt.axis('off')\n",
    "\n",
    "# can also be done using numpy array manipulation\n",
    "plt.subplot(142);\n",
    "plt.axis('off')\n",
    "plt.imshow(im[:,:,[2,1,0]])   \n",
    "\n",
    "# using numpy stack()\n",
    "plt.subplot(143);\n",
    "plt.axis('off')\n",
    "plt.imshow(np.stack((im[:,:,2],im[:,:,1],im[:,:,0]),axis=2));   \n",
    "\n",
    "# or using numpy concatenate\n",
    "plt.subplot(144);\n",
    "plt.axis('off')\n",
    "plt.imshow(np.concatenate((im[:,:,2,np.newaxis],im[:,:,1,np.newaxis],im[:,:,0,np.newaxis]),axis=2)); "
   ]
  },
  {
   "cell_type": "markdown",
   "metadata": {},
   "source": [
    "### Image as a 2-D function"
   ]
  },
  {
   "cell_type": "code",
   "execution_count": null,
   "metadata": {
    "collapsed": true,
    "scrolled": false
   },
   "outputs": [],
   "source": [
    "%matplotlib inline\n",
    "\n",
    "import matplotlib.pyplot as plt\n",
    "from mpl_toolkits.mplot3d import Axes3D\n",
    "fig=plt.figure(figsize=(15,8))\n",
    "ax = fig.add_subplot(111, projection='3d')\n",
    "toucan_im_gray_rz = cv2.resize(toucan_im_gray,dsize=(256,256))\n",
    "\n",
    "ax.plot_surface(*np.meshgrid(range(0,toucan_im_gray_rz.shape[1]),range(0,toucan_im_gray_rz.shape[0])),toucan_im_gray_rz)"
   ]
  },
  {
   "cell_type": "markdown",
   "metadata": {},
   "source": [
    "### Arithmetic operations between and image and a scaler"
   ]
  },
  {
   "cell_type": "code",
   "execution_count": null,
   "metadata": {
    "collapsed": true,
    "scrolled": false
   },
   "outputs": [],
   "source": [
    "%matplotlib inline\n",
    "\n",
    "toucan_dim = toucan_im_int.copy()\n",
    "toucan_dim = toucan_dim.astype('int16')-100\n",
    "toucan_dim[toucan_dim<0]=0\n",
    "\n",
    "\n",
    "toucan_bright = toucan_im_int.copy()\n",
    "toucan_bright = toucan_bright.astype('int16')+100\n",
    "toucan_bright[toucan_bright>255]=255\n",
    "_=plt.figure(figsize=(13,10))\n",
    "_=plt.imshow(np.concatenate( (toucan_dim.astype('uint8'),toucan_bright.astype('uint8')), axis = 1) )\n",
    "_=plt.axis('off')"
   ]
  },
  {
   "cell_type": "markdown",
   "metadata": {},
   "source": [
    "## Gaussian Noise"
   ]
  },
  {
   "cell_type": "code",
   "execution_count": null,
   "metadata": {
    "collapsed": true,
    "scrolled": false
   },
   "outputs": [],
   "source": [
    "sig1  = np.random.randn(100,100)\n",
    "sig2  = 10*np.random.randn(100,100)\n",
    "sig3  = 32*np.random.randn(100,100)\n",
    "sig4  = 100*np.random.randn(100,100)\n",
    "\n",
    "combined_im = np.concatenate( (np.concatenate( (sig1,sig2),axis=1 ),np.concatenate( (sig3,sig4),axis=1 )),axis=0) \n",
    "_ = plt.figure(figsize=(10,10))\n",
    "_ = plt.imshow(combined_im, plt.cm.gray)\n",
    "_ = plt.axis('off')"
   ]
  },
  {
   "cell_type": "markdown",
   "metadata": {},
   "source": [
    "### Additive Gaussian noise"
   ]
  },
  {
   "cell_type": "code",
   "execution_count": null,
   "metadata": {
    "collapsed": true
   },
   "outputs": [],
   "source": [
    "%matplotlib inline\n",
    "\n",
    "noise_sd = 0.05\n",
    "\n",
    "# generate gaussian noise of the same shape as the image\n",
    "noise=noise_sd*np.random.randn(*toucan_im.shape[0:2],1)\n",
    "\n",
    "# add the gaussian noise to the color image\n",
    "#noise_im = toucan_im+np.repeat(noise[:,:,np.newaxis],3,axis=2)\n",
    "noise_im = toucan_im+noise\n",
    "\n",
    "# scale back the image to be between 0 and 1\n",
    "noise_im-=np.min(noise_im)\n",
    "noise_im/=np.max(noise_im)\n",
    "\n",
    "# display the noisy image\n",
    "_ = plt.figure(figsize=(15,12))\n",
    "_ = plt.imshow(noise_im)\n",
    "_ = plt.axis('off')\n",
    "_ = plt.show()\n",
    "\n",
    "\n",
    "# generate gaussian noise of the same shape as the image\n",
    "noise=noise_sd*np.random.randn(*toucan_im_gray.shape[0:2])\n",
    "\n",
    "\n",
    "# add the gaussian noise to the color image\n",
    "noise_im = toucan_im_gray+255*noise\n",
    "\n",
    "# scale back the image to be between 0 and 1\n",
    "noise_im-=np.min(noise_im)\n",
    "noise_im/=np.max(noise_im)\n",
    "\n",
    "# display the noisy image\n",
    "_ = plt.figure(figsize=(15,12))\n",
    "_ = plt.imshow(noise_im,plt.cm.gray)\n",
    "_ = plt.axis('off')\n",
    "_ = plt.show()"
   ]
  },
  {
   "cell_type": "markdown",
   "metadata": {},
   "source": [
    "### Importance of noise scale"
   ]
  },
  {
   "cell_type": "code",
   "execution_count": null,
   "metadata": {
    "collapsed": true
   },
   "outputs": [],
   "source": [
    "%matplotlib inline\n",
    "\n",
    "noise_sd = 0.05\n",
    "\n",
    "# generate gaussian noise of the same shape as the image\n",
    "noise=noise_sd*np.random.randn(*toucan_im_int.shape[0:2],1)\n",
    "\n",
    "# add the gaussian noise to the color image\n",
    "#noise_im = toucan_im+np.repeat(noise[:,:,np.newaxis],3,axis=2)\n",
    "#noise_im = toucan_im_int.astype('float32')+255*noise\n",
    "noise_im = toucan_im_int.astype('float32')+noise\n",
    "\n",
    "\n",
    "# scale back the image to be between 0 and 1\n",
    "noise_im-=np.min(noise_im)\n",
    "noise_im/=np.max(noise_im)\n",
    "\n",
    "# display the noisy image\n",
    "_ = plt.figure(figsize=(10,8))\n",
    "_ = plt.imshow(noise_im)\n",
    "_ = plt.axis('off')\n",
    "_ = plt.title('No visible noise!!')\n",
    "_ = plt.show()\n"
   ]
  },
  {
   "cell_type": "markdown",
   "metadata": {},
   "source": [
    "### Multiplicative Gaussian noise"
   ]
  },
  {
   "cell_type": "code",
   "execution_count": null,
   "metadata": {
    "collapsed": true
   },
   "outputs": [],
   "source": [
    "# generate gaussian noise of the same shape as the image\n",
    "noise=0.1*np.random.randn(*toucan_im.shape[0:2],1) +1\n",
    "\n",
    "# add the gaussian noise to the color image\n",
    "noise_im = toucan_im*noise\n",
    "\n",
    "# scale back the image to be between 0 and 1\n",
    "noise_im-=np.min(noise_im)\n",
    "noise_im/=np.max(noise_im)\n",
    "\n",
    "# display the noisy image\n",
    "_ = plt.figure(figsize=(5,4))\n",
    "_ = plt.imshow(noise_im)\n",
    "_ = plt.axis('off')\n",
    "_ = plt.show()\n"
   ]
  },
  {
   "cell_type": "markdown",
   "metadata": {},
   "source": [
    "### Salt and Pepper noise"
   ]
  },
  {
   "cell_type": "code",
   "execution_count": null,
   "metadata": {
    "collapsed": true,
    "scrolled": false
   },
   "outputs": [],
   "source": [
    "snp_noise = np.random.randint(0,high=500,size=toucan_im_gray.shape)\n",
    "toucan_im_gray_snp=toucan_im_gray.copy()\n",
    "#len(np.unique(snp_noise))\n",
    "\n",
    "toucan_im_gray_snp[snp_noise==0]=0\n",
    "toucan_im_gray_snp[snp_noise==1]=255\n",
    "\n",
    "_ = plt.figure(figsize=(10,8))\n",
    "_ = plt.imshow(toucan_im_gray_snp,plt.cm.gray)"
   ]
  },
  {
   "cell_type": "markdown",
   "metadata": {},
   "source": [
    "## Image Enhancement (Intensity Transformations)\n",
    "### Pointwise Operations"
   ]
  },
  {
   "cell_type": "code",
   "execution_count": null,
   "metadata": {
    "collapsed": true
   },
   "outputs": [],
   "source": [
    "# negative image\n",
    "plt.figure(figsize=(8,6))\n",
    "_=plt.imshow(255-toucan_im_gray,plt.cm.gray)"
   ]
  },
  {
   "cell_type": "code",
   "execution_count": null,
   "metadata": {
    "collapsed": true
   },
   "outputs": [],
   "source": [
    "# logarithm image\n",
    "toucan_im_gray_lg = toucan_im_gray.copy().astype('float32')\n",
    "log_im=np.log(toucan_im_gray_lg+1)\n",
    "_=plt.figure(figsize=(16,6))\n",
    "_=plt.subplot(1,2,1)\n",
    "_=plt.imshow(log_im.astype('float32'),plt.cm.gray)\n",
    "_=plt.subplot(1,2,2)\n",
    "_=plt.plot(range(1,255),np.log(range(1,255)))"
   ]
  },
  {
   "cell_type": "code",
   "execution_count": null,
   "metadata": {
    "collapsed": true,
    "scrolled": true
   },
   "outputs": [],
   "source": [
    "# exponential image\n",
    "toucan_im_gray_exp = toucan_im_gray.copy().astype('float32')\n",
    "toucan_im_gray_exp-=np.min(toucan_im_gray_exp)\n",
    "toucan_im_gray_exp/=0.1*np.max(toucan_im_gray_exp)\n",
    "exp_im=np.exp(toucan_im_gray_exp)\n",
    "_=plt.figure(figsize=(16,6))\n",
    "_=plt.subplot(1,2,1)\n",
    "exp_im-=np.min(exp_im)\n",
    "exp_im/=np.max(exp_im)\n",
    "_=plt.imshow(exp_im.astype('float32'),plt.cm.gray)\n",
    "_=plt.subplot(1,2,2)\n",
    "_=plt.plot(sorted(np.unique(toucan_im_gray_exp)),np.exp(sorted(np.unique(toucan_im_gray_exp))))"
   ]
  },
  {
   "cell_type": "code",
   "execution_count": null,
   "metadata": {
    "collapsed": true
   },
   "outputs": [],
   "source": [
    "# power-law transformations (gamma correction)\n",
    "c=1\n",
    "gamma=1.0\n",
    "toucan_im_gray_exp = toucan_im_gray.copy().astype('float32')\n",
    "toucan_im_gray_exp-=np.min(toucan_im_gray_exp)\n",
    "toucan_im_gray_exp/=np.max(toucan_im_gray_exp)\n",
    "exp_im=c*toucan_im_gray_exp**gamma\n",
    "_=plt.figure(figsize=(16,6))\n",
    "_=plt.subplot(1,2,1)\n",
    "_=plt.imshow(exp_im.astype('float32'),plt.cm.gray)\n",
    "_=plt.subplot(1,2,2)\n",
    "_=plt.plot(sorted(np.unique(toucan_im_gray_exp)),sorted(np.unique(exp_im)))"
   ]
  },
  {
   "cell_type": "code",
   "execution_count": null,
   "metadata": {
    "collapsed": true
   },
   "outputs": [],
   "source": [
    "# step = lambda x: x if 0 <=x <=100 or 150<=x<=255 else 200 \n",
    "# plt.plot(range(1,255),[step(x) for x in range(1,255)])\n",
    "# plt.show()\n",
    "# toucan_im_gray_step = toucan_im_gray.copy()\n",
    "\n",
    "# a = np.array([v for v in toucan_im_gray_step.reshape(1,-1)]).reshape(toucan_im_gray.shape)\n",
    "# plt.imshow(a,plt.cm.gray)\n",
    "# plt.show()\n",
    "\n",
    "# a = np.array([step(v) for v in toucan_im_gray_step.reshape(-1,1).flatten()]).reshape(toucan_im_gray.shape)\n",
    "# plt.imshow(a,plt.cm.gray)\n",
    "# plt.show()\n",
    "\n",
    "# # toucan_im_int.shape\n",
    "# # a = np.stack((cv2.equalizeHist(toucan_im_int[:,:,0]),cv2.equalizeHist(toucan_im_int[:,:,1]),\n",
    "##    cv2.equalizeHist(toucan_im_int[:,:,2])),axis=2)\n",
    "# # plt.imshow(toucan_im_int)"
   ]
  },
  {
   "cell_type": "markdown",
   "metadata": {},
   "source": [
    "# shifting the color channels"
   ]
  },
  {
   "cell_type": "code",
   "execution_count": null,
   "metadata": {
    "collapsed": true
   },
   "outputs": [],
   "source": [
    "a=plt.imshow( np.concatenate((im[130:-70,30:-30,2,np.newaxis],im[100:-100,:-60,1,np.newaxis],im[100:-100,60:,0,np.newaxis]), axis=2))\n",
    "a=plt.axis('off')\n",
    "plt.show()\n"
   ]
  },
  {
   "cell_type": "markdown",
   "metadata": {},
   "source": [
    "# cropping an image"
   ]
  },
  {
   "cell_type": "code",
   "execution_count": null,
   "metadata": {
    "collapsed": true
   },
   "outputs": [],
   "source": [
    "%matplotlib notebook\n",
    "\n",
    "import time\n",
    "\n",
    "fig = plt.figure(figsize=(5,5))\n",
    "ax = fig.add_subplot(111)\n",
    "plt.ion()\n",
    "fig.show()\n",
    "fig.canvas.draw()\n",
    "\n",
    "for i in range(10,im.shape[0],40):\n",
    "    a=ax.clear()\n",
    "    a=ax.imshow(im[:i,:i,[2,1,0]])\n",
    "    a=plt.axis('off')\n",
    "    a=fig.canvas.draw()\n",
    "    time.sleep(0.1)         \n",
    "    \n",
    "#cv2.imshow('',im)   don't use with jupyter notebook; freezes jupyter notebook\n",
    "#cv2.waitKey(1)\n",
    "\n",
    "%matplotlib inline\n"
   ]
  },
  {
   "cell_type": "markdown",
   "metadata": {},
   "source": [
    "# Image color spaces\n",
    "In computer vision and image processing, color space refers to a specific way of\n",
    "organizing colors. A color space is actually a combination of two things: a color model\n",
    "and a mapping function. The reason we want color models is because it helps us in\n",
    "representing pixel values using tuples. The mapping function maps the color model to the\n",
    "set of all possible colors that can be represented.\n",
    "There are many different color spaces that are useful. Some of the more popular color\n",
    "spaces are RGB, YUV, HSV, Lab, and so on. Different color spaces provide different\n",
    "advantages. We just need to pick the color space that’s right for the given problem. Let’s\n",
    "take a couple of color spaces and see what information they provide:\n",
    "### RGB: \n",
    "It’s probably the most popular color space. It stands for Red, Green, and Blue.\n",
    "In this color space, each color is represented as a weighted combination of red, green,\n",
    "and blue. So every pixel value is represented as a tuple of three numbers\n",
    "corresponding to red, green, and blue. Each value ranges between 0 and 255.\n",
    "### YUV: \n",
    "Even though RGB is good for many purposes, it tends to be very limited for\n",
    "many real life applications. People started thinking about different methods to\n",
    "separate the intensity information from the color information. Hence, they came up\n",
    "with the YUV color space. Y refers to the luminance or intensity, and U/V channels\n",
    "represent color information. This works well in many applications because the human\n",
    "visual system perceives intensity information very differently from color information.\n",
    "### HSV: \n",
    "As it turned out, even YUV was still not good enough for some of the\n",
    "applications. So people started thinking about how humans perceive color and they\n",
    "came up with the HSV color space. HSV stands for Hue, Saturation, and Value. This\n",
    "is a cylindrical system where we separate three of the most primary properties of\n",
    "colors and represent them using different channels. This is closely related to how the\n",
    "human visual system understands color. This gives us a lot of flexibility as to how we\n",
    "can handle images.\n",
    "\n",
    "(text courtesy: OpenCV with Python by Example, PacktPub)"
   ]
  },
  {
   "cell_type": "code",
   "execution_count": null,
   "metadata": {
    "collapsed": true,
    "scrolled": true
   },
   "outputs": [],
   "source": [
    "print (*[x+\"\\n\" for x in dir(cv2) if x.startswith('COLOR_')])   # show color flags"
   ]
  },
  {
   "cell_type": "code",
   "execution_count": null,
   "metadata": {
    "collapsed": true
   },
   "outputs": [],
   "source": [
    "# YUV image\n",
    "\n",
    "im_yuv = cv2.cvtColor(im, cv2.COLOR_BGR2YUV);\n",
    "plt.figure(figsize=(20,8));   # create figure with custom size\n",
    "plt.subplot(131)\n",
    "plt.axis('off')\n",
    "plt.title('Y')\n",
    "plt.imshow(im_yuv[:,:,0],plt.cm.gray);\n",
    "plt.subplot(132)\n",
    "plt.axis('off')\n",
    "plt.title('U')\n",
    "plt.imshow(im_yuv[:,:,1],plt.cm.gray);\n",
    "plt.subplot(133)\n",
    "plt.axis('off')\n",
    "plt.title('V')\n",
    "plt.imshow(im_yuv[:,:,2],plt.cm.gray);"
   ]
  },
  {
   "cell_type": "code",
   "execution_count": null,
   "metadata": {
    "collapsed": true
   },
   "outputs": [],
   "source": [
    "# HSV image\n",
    "\n",
    "im_hsv = cv2.cvtColor(im, cv2.COLOR_BGR2HSV);\n",
    "plt.figure(figsize=(20,8));   # create figure with custom size\n",
    "plt.subplot(131)\n",
    "plt.axis('off')\n",
    "plt.title('H')\n",
    "plt.imshow(im_hsv[:,:,0],plt.cm.gray);\n",
    "plt.subplot(132)\n",
    "plt.axis('off')\n",
    "plt.title('S')\n",
    "plt.imshow(im_hsv[:,:,1],plt.cm.gray);\n",
    "plt.subplot(133)\n",
    "plt.axis('off')\n",
    "plt.title('V')\n",
    "plt.imshow(im_hsv[:,:,2],plt.cm.gray);\n",
    "\n",
    "\n",
    "\n",
    "# plt.figure(figsize=(5,5))\n",
    "# plt.subplot(111)\n",
    "# plt.imshow(im_hsv)\n",
    "# plt.show()"
   ]
  },
  {
   "cell_type": "code",
   "execution_count": null,
   "metadata": {
    "collapsed": true
   },
   "outputs": [],
   "source": [
    "\n",
    "# Tasks\n",
    "\n",
    "# make a checkerboard\n",
    "\n",
    "# take four images and make checkerboard with their quadrants\n",
    "\n",
    "# convert from HSV to RGB\n",
    "# convert from YUV to RGB\n"
   ]
  },
  {
   "cell_type": "markdown",
   "metadata": {},
   "source": [
    "# Geometric Transformations (Affine) of Images"
   ]
  },
  {
   "cell_type": "code",
   "execution_count": null,
   "metadata": {
    "collapsed": true
   },
   "outputs": [],
   "source": [
    "# translation\n",
    "sze = im.shape[0:2]\n",
    "tx = 100\n",
    "ty = 50\n",
    "im_translated = cv2.warpAffine(im, np.float32([[1,0,tx],[0,1,ty]]), im.shape[0:2] ) # cropping takes place\n",
    "plt.subplot(121)\n",
    "plt.imshow(im_translated)\n",
    "\n",
    "im_translated = cv2.warpAffine(im, np.float32([[1,0,tx],[0,1,ty]]), tuple(np.array(im.shape[0:2])+[tx,ty]) ) # no cropping takes place\n",
    "plt.subplot(122)\n",
    "plt.imshow(im_translated)\n",
    "plt.show()\n",
    "\n",
    "\n",
    "\n",
    "# task: add a border of 10 pixels around the image using image translation\n",
    "\n",
    "# find the horitonzal edges in the image\n"
   ]
  },
  {
   "cell_type": "code",
   "execution_count": null,
   "metadata": {
    "collapsed": true
   },
   "outputs": [],
   "source": [
    "# plt.figure()\n",
    "# borderWidth = 100\n",
    "# im_border = cv2.warpAffine(im, np.float32([[1,0,borderWidth],[0,1,borderWidth]]), tuple(np.array(im.shape[0:2])+2*[2*borderWidth]) ) # cropping takes place\n",
    "# plt.imshow(im_border)\n",
    "# plt.axis('off')\n",
    "# plt.show()\n",
    "\n",
    "\n",
    "# #edge images\n",
    "\n",
    "# plt.figure(figsize=(20,12))\n",
    "# plt.subplot(121)\n",
    "# im_1px_xlated_h = cv2.warpAffine(im, np.float32([[1,0,1],[0,1,0]]), tuple(np.array(im.shape[0:2])) ) # cropping takes place\n",
    "# plt.imshow(im-im_1px_xlated_h)\n",
    "# plt.axis('off')\n",
    "\n",
    "# plt.subplot(122)\n",
    "# im_1px_xlated_v = cv2.warpAffine(im, np.float32([[1,0,0],[0,1,1]]), tuple(np.array(im.shape[0:2])) ) # cropping takes place\n",
    "# plt.imshow(im-im_1px_xlated_v)\n",
    "# plt.axis('off')"
   ]
  },
  {
   "cell_type": "markdown",
   "metadata": {},
   "source": [
    "### Rotation"
   ]
  },
  {
   "cell_type": "code",
   "execution_count": null,
   "metadata": {
    "collapsed": true
   },
   "outputs": [],
   "source": [
    "rotationMatrix = cv2.getRotationMatrix2D((im.shape[0]/2,im.shape[1]/2),30,1)\n",
    "im_rotated=cv2.warpAffine(im, rotationMatrix, (im.shape[0],im.shape[1]))\n",
    "_=plt.imshow(im_rotated)"
   ]
  },
  {
   "cell_type": "code",
   "execution_count": null,
   "metadata": {
    "collapsed": true
   },
   "outputs": [],
   "source": [
    "rotationMatrix = cv2.getRotationMatrix2D((im.shape[0]/2,im.shape[1]/2),30,1)\n",
    "im_rotated=cv2.warpAffine(im, rotationMatrix, (2*im.shape[0],2*im.shape[1]))\n",
    "_=plt.imshow(im_rotated)"
   ]
  },
  {
   "cell_type": "code",
   "execution_count": null,
   "metadata": {
    "collapsed": true
   },
   "outputs": [],
   "source": [
    "im.shape\n",
    "diag_len = np.sqrt(np.sum(np.square(im.shape)))\n",
    "im_translated = cv2.warpAffine(im, np.float32([[1,0,(diag_len-im.shape[1])/2],[0,1,(diag_len-im.shape[1])/2]]), (int(diag_len),int(diag_len)) ) # cropping takes place\n",
    "_=plt.imshow(im_translated)\n",
    "_=plt.show()\n",
    "rotationMatrix = cv2.getRotationMatrix2D((im_translated.shape[0]/2,im_translated.shape[1]/2),30,1)\n",
    "im_rotated=cv2.warpAffine(im_translated, rotationMatrix, im_translated.shape[0:2])\n",
    "_=plt.imshow(im_rotated)\n"
   ]
  },
  {
   "cell_type": "markdown",
   "metadata": {},
   "source": [
    "### Resize"
   ]
  },
  {
   "cell_type": "code",
   "execution_count": null,
   "metadata": {
    "collapsed": true
   },
   "outputs": [],
   "source": [
    "im_scaled = cv2.resize(im,None,0, fx=1.5,fy=1.5,interpolation=cv2.INTER_CUBIC)\n",
    "\n",
    "_=plt.imshow(im_scaled)\n",
    "im_scaled.shape"
   ]
  },
  {
   "cell_type": "markdown",
   "metadata": {},
   "source": [
    "### Flip"
   ]
  },
  {
   "cell_type": "code",
   "execution_count": null,
   "metadata": {
    "collapsed": true
   },
   "outputs": [],
   "source": [
    "im_flipped_vert = cv2.flip(im,0)\n",
    "im_flipped_horz = cv2.flip(im,1)\n",
    "im_flipped_both = cv2.flip(im,-1)\n",
    "flipped_ims = np.hstack((im,im_flipped_vert,im_flipped_horz,im_flipped_both))\n",
    "plt.figure(figsize=(15,8))\n",
    "plt.imshow(flipped_ims)\n",
    "plt.axis('off')"
   ]
  },
  {
   "cell_type": "markdown",
   "metadata": {},
   "source": [
    "### Shear"
   ]
  },
  {
   "cell_type": "code",
   "execution_count": null,
   "metadata": {
    "collapsed": true
   },
   "outputs": [],
   "source": [
    "im_hsheared = cv2.warpAffine(im, np.float32([[1,0.1,0],[0.2,1,0]]), im.shape[0:2] ) # cropping takes place\n",
    "plt.imshow(im_hsheared)"
   ]
  },
  {
   "cell_type": "code",
   "execution_count": null,
   "metadata": {
    "collapsed": true
   },
   "outputs": [],
   "source": [
    "# plt.figure(figsize=(20,8))\n",
    "# im_heq_b = cv2.equalizeHist(im[:,:,0])\n",
    "# im_heq_g = cv2.equalizeHist(im[:,:,1])\n",
    "# im_heq_r = cv2.equalizeHist(im[:,:,2])\n",
    "# plt.subplot(121)\n",
    "# plt.imshow( cv2.cvtColor(im,cv2.COLOR_BGR2GRAY),plt.cm.gray)\n",
    "# plt.subplot(122)\n",
    "# plt.imshow(cv2.equalizeHist(cv2.cvtColor(im,cv2.COLOR_BGR2GRAY)),plt.cm.gray)"
   ]
  },
  {
   "cell_type": "code",
   "execution_count": null,
   "metadata": {
    "collapsed": true
   },
   "outputs": [],
   "source": [
    "import cv2\n",
    "import numpy as np\n",
    "from matplotlib import pyplot as plt"
   ]
  },
  {
   "cell_type": "code",
   "execution_count": null,
   "metadata": {
    "collapsed": true
   },
   "outputs": [],
   "source": [
    "imname='../images/tropical3.jpg'\n",
    "tropical=cv2.imread(imname)\n",
    "tropical = cv2.cvtColor(tropical, cv2.COLOR_BGR2RGB)"
   ]
  },
  {
   "cell_type": "code",
   "execution_count": null,
   "metadata": {
    "collapsed": true
   },
   "outputs": [],
   "source": [
    "_=plt.figure(figsize=(10,8))\n",
    "_=plt.imshow(tropical)\n",
    "_=plt.xticks([])\n",
    "_=plt.yticks([])"
   ]
  },
  {
   "cell_type": "markdown",
   "metadata": {},
   "source": [
    "### grayscale histogram"
   ]
  },
  {
   "cell_type": "code",
   "execution_count": null,
   "metadata": {
    "collapsed": true
   },
   "outputs": [],
   "source": [
    "tropical_gray = cv2.cvtColor(tropical,cv2.COLOR_RGB2GRAY)\n",
    "imhist = cv2.calcHist([tropical_gray],[0],None,[256],[0,256])\n",
    "\n",
    "_=plt.figure(figsize=(18,5))\n",
    "\n",
    "_=plt.subplot(1,2,1)\n",
    "_=plt.imshow(tropical_gray,plt.cm.gray)\n",
    "_=plt.xticks([])\n",
    "_=plt.yticks([])\n",
    "\n",
    "_=plt.subplot(1,2,2)\n",
    "_=plt.title(\"Grayscale Histogram\")\n",
    "_=plt.xlabel(\"Bins\")\n",
    "_=plt.ylabel(\"# of Pixels\")\n",
    "_=plt.plot(imhist)\n",
    "_=plt.xlim([0, 256])\n",
    "_=plt.show()"
   ]
  },
  {
   "cell_type": "markdown",
   "metadata": {},
   "source": [
    "### color histogram"
   ]
  },
  {
   "cell_type": "code",
   "execution_count": null,
   "metadata": {
    "collapsed": true
   },
   "outputs": [],
   "source": [
    "channels = cv2.split(tropical)\n",
    "colors = ['r','g','b']\n",
    "\n",
    "for (channel,color) in zip(channels, colors):\n",
    "    imhist_c = cv2.calcHist([channel],[0],None,[256],[0,256])\n",
    "    _=plt.xlabel(\"Bins\")\n",
    "    _=plt.ylabel(\"Intensity in color channels\")\n",
    "    _=plt.plot(imhist_c,color = color)\n",
    "    _=plt.xlim([0,256])"
   ]
  },
  {
   "cell_type": "markdown",
   "metadata": {},
   "source": [
    "### Histogram Equalization"
   ]
  },
  {
   "cell_type": "code",
   "execution_count": null,
   "metadata": {
    "collapsed": true
   },
   "outputs": [],
   "source": [
    "tropical_gray_histeq = cv2.equalizeHist(tropical_gray)\n",
    "\n",
    "_=plt.figure(figsize=(18,6))\n",
    "_=plt.subplot(1,2,1)\n",
    "_=plt.xticks([])\n",
    "_=plt.yticks([])\n",
    "_=plt.imshow(tropical_gray,plt.cm.gray)\n",
    "_=plt.subplot(1,2,2)\n",
    "_=plt.imshow(tropical_gray_histeq,plt.cm.gray)\n",
    "_=plt.xticks([])\n",
    "_=plt.yticks([])\n",
    "_=plt.show()\n",
    "\n",
    "imhist = cv2.calcHist([tropical_gray],[0],None,[256],[0,256])\n",
    "imhist_eq = cv2.calcHist([tropical_gray_histeq],[0],None,[256],[0,256])\n",
    "\n",
    "_=plt.figure(figsize=(18,5))\n",
    "_=plt.subplot(1,2,1)\n",
    "_=plt.title(\"Grayscale Histogram\")\n",
    "_=plt.xlabel(\"Bins\")\n",
    "_=plt.ylabel(\"# of Pixels\")\n",
    "_=plt.plot(imhist)\n",
    "_=plt.xlim([0, 256])\n",
    "\n",
    "_=plt.subplot(1,2,2)\n",
    "_=plt.title(\"Grayscale Histogram\")\n",
    "_=plt.xlabel(\"Bins\")\n",
    "_=plt.ylabel(\"# of Pixels\")\n",
    "_=plt.plot(imhist_eq)\n",
    "_=plt.xlim([0, 256])\n",
    "_=plt.show()"
   ]
  },
  {
   "cell_type": "code",
   "execution_count": null,
   "metadata": {
    "collapsed": true
   },
   "outputs": [],
   "source": [
    "import cv2\n",
    "import numpy as np\n",
    "from matplotlib import pyplot as plt"
   ]
  },
  {
   "cell_type": "code",
   "execution_count": null,
   "metadata": {
    "collapsed": true
   },
   "outputs": [],
   "source": [
    "imname='../images/birds.png'\n",
    "imname='../images/billiard-01_small.jpg'\n",
    "test_im=cv2.imread(imname)\n",
    "test_im = cv2.cvtColor(test_im, cv2.COLOR_BGR2RGB)"
   ]
  },
  {
   "cell_type": "code",
   "execution_count": null,
   "metadata": {
    "collapsed": true
   },
   "outputs": [],
   "source": [
    "_=plt.figure(figsize=(10,8))\n",
    "_=plt.imshow(test_im)\n",
    "_=plt.xticks([])\n",
    "_=plt.yticks([])\n",
    "_=plt.title('test image (original)')"
   ]
  },
  {
   "cell_type": "markdown",
   "metadata": {},
   "source": [
    "# Filtering: Arithmetic mean"
   ]
  },
  {
   "cell_type": "code",
   "execution_count": null,
   "metadata": {
    "collapsed": true
   },
   "outputs": [],
   "source": [
    "blurred_im_3 = cv2.blur(test_im,(3,3))\n",
    "blurred_im_5 = cv2.blur(test_im,(5,5))\n",
    "blurred_im_7 = cv2.blur(test_im,(7,7))\n",
    "\n",
    "_=plt.figure(figsize=(12,20))\n",
    "blurred_ims = np.vstack( (blurred_im_3,blurred_im_5,blurred_im_7) )\n",
    "_=plt.imshow(blurred_ims)\n",
    "_=plt.xticks([])\n",
    "_=plt.yticks([])"
   ]
  },
  {
   "cell_type": "markdown",
   "metadata": {},
   "source": [
    "### gaussian blurring"
   ]
  },
  {
   "cell_type": "code",
   "execution_count": null,
   "metadata": {
    "collapsed": true
   },
   "outputs": [],
   "source": [
    "gblur_03 = cv2.GaussianBlur(test_im,(3,3),0) # sd = 0 means compute automatically depending on the kernel size\n",
    "gblur_05 = cv2.GaussianBlur(test_im,(5,5),0) # sd = 0 means compute automatically depending on the kernel size\n",
    "gblur_07 = cv2.GaussianBlur(test_im,(7,7),0) # sd = 0 means compute automatically depending on the kernel size\n",
    "\n",
    "_=plt.figure(figsize=(12,20))\n",
    "gblurred_ims = np.vstack( (gblur_03,gblur_05,gblur_07) )\n",
    "_=plt.imshow(gblurred_ims)\n",
    "_=plt.xticks([])\n",
    "_=plt.yticks([])\n"
   ]
  },
  {
   "cell_type": "code",
   "execution_count": null,
   "metadata": {
    "collapsed": true,
    "scrolled": false
   },
   "outputs": [],
   "source": [
    "# averaging using filter2D and explicit kernel\n",
    "\n",
    "import cv2\n",
    "import numpy as np\n",
    "from matplotlib import pyplot as plt\n",
    "img = cv2.imread('../images/birds.png')\n",
    "img = cv2.cvtColor(img,cv2.COLOR_BGR2RGB)\n",
    "kernel = np.ones((5,5),np.float32)/25\n",
    "dst = cv2.filter2D(img,-1,kernel)  # 01 indicating the same depth as the source image\n",
    "_=plt.figure(figsize=(15,8))\n",
    "_=plt.subplot(121),plt.imshow(img),plt.title('Original')\n",
    "_=plt.xticks([]), plt.yticks([])\n",
    "_=plt.subplot(122),plt.imshow(dst),plt.title('Averaging')\n",
    "_=plt.xticks([]), plt.yticks([])\n",
    "_=plt.show()\n",
    "\n"
   ]
  },
  {
   "cell_type": "code",
   "execution_count": null,
   "metadata": {
    "collapsed": true
   },
   "outputs": [],
   "source": [
    "# gaussian kernel hand-computed\n",
    "\n",
    "def get_gkernel(l=5,sig=1):\n",
    "    \n",
    "    span = np.arange(-l//2+1,l//2+1)\n",
    "    X,Y=np.meshgrid(span,span)\n",
    "    \n",
    "    k = np.exp(-(X**2+Y**2)/(2*sig**2))\n",
    "    \n",
    "    return k/np.sum(k)\n",
    "\n",
    "# generate the gaussian kernel\n",
    "l = 27\n",
    "sig=5\n",
    "k = get_gkernel(l,sig)\n",
    "\n",
    "# apply the gaussiankernel\n",
    "dst = cv2.filter2D(img,-1,k)  # 01 indicating the same depth as the source image\n",
    "_=plt.figure(figsize=(15,8))\n",
    "_=plt.subplot(121),plt.imshow(img),plt.title('Original')\n",
    "_=plt.xticks([]), plt.yticks([])\n",
    "_=plt.subplot(122),plt.imshow(dst),plt.title('Averaging')\n",
    "_=plt.xticks([]), plt.yticks([])\n",
    "_=plt.show()\n",
    "\n",
    "\n",
    "# show the kernel as an image\n",
    "_=plt.imshow(k, interpolation='none')\n",
    "\n",
    "# show the kernel as a 2-D surface\n",
    "fig = plt.figure()\n",
    "ax = fig.gca(projection='3d')\n",
    "X,Y = np.meshgrid(np.arange(-l//2+1,l//2+1), np.arange(-l//2+1,l//2+1))\n",
    "surf = ax.plot_surface(X,Y, k, rstride=1, cstride=1, cmap=plt.cm.coolwarm,\n",
    "        linewidth=0, antialiased=False)\n"
   ]
  },
  {
   "cell_type": "code",
   "execution_count": null,
   "metadata": {
    "collapsed": true
   },
   "outputs": [],
   "source": [
    "\n",
    "\n",
    "lake_im = cv2.imread('../images/MinaretLake.jpg')\n",
    "lake_im = cv2.cvtColor(lake_im,cv2.COLOR_BGR2RGB)\n",
    "\n",
    "tom_cruise_im = cv2.imread('../images/tom_cruise.jpg')\n",
    "#tom_cruise_im = cv2.imread('../images/arnold.jpg')\n",
    "tom_cruise_im = cv2.cvtColor(tom_cruise_im,cv2.COLOR_BGR2RGB)\n",
    "\n",
    "\n",
    "mblur_03 = cv2.medianBlur(lake_im, 3)   # median blur\n",
    "\n",
    "bblur_03 = cv2.bilateralFilter(tom_cruise_im, 15, 50, 50) # bilateral blur:  neighborhood sizes, color σ, and space σ.\n",
    "\n",
    "plt.figure(figsize=(20,12))\n",
    "_=plt.subplot(121),plt.imshow(tom_cruise_im),plt.subplot(122),plt.imshow(bblur_03)"
   ]
  },
  {
   "cell_type": "code",
   "execution_count": null,
   "metadata": {
    "collapsed": true
   },
   "outputs": [],
   "source": [
    "# from mpl_toolkits.mplot3d import Axes3D\n",
    "# import matplotlib.pyplot as plt\n",
    "# import numpy as np\n",
    "\n",
    "# fig = plt.figure()\n",
    "# ax = fig.add_subplot(111, projection='3d')\n",
    "\n",
    "# u = np.linspace(0, 2 * np.pi, 100)\n",
    "# v = np.linspace(0, np.pi, 100)\n",
    "\n",
    "# x = 10 * np.outer(np.cos(u), np.sin(v))\n",
    "# y = 10 * np.outer(np.sin(u), np.sin(v))\n",
    "# z = 10 * np.outer(np.ones(np.size(u)), np.cos(v))\n",
    "# ax.plot_surface(x, y, z,  rstride=4, cstride=4, color='b')\n",
    "\n",
    "# plt.show()\n",
    "\n"
   ]
  },
  {
   "cell_type": "markdown",
   "metadata": {},
   "source": [
    "# Filtering for matching templates"
   ]
  },
  {
   "cell_type": "code",
   "execution_count": null,
   "metadata": {
    "collapsed": true
   },
   "outputs": [],
   "source": [
    "from matplotlib import gridspec\n",
    "\n",
    "# plt.style.use('dark_background')\n",
    "# plt.style.available\n",
    "# plt.style.use('default')\n",
    "\n",
    "\n",
    "# a 1-D signal\n",
    "t = np.arange(0,1.5*2*3.14,0.1)\n",
    "f = 0\n",
    "for k in range(1,20):\n",
    "    f+=(1/k)*np.sin((k**2-4*k-np.sqrt(3*k))*t)\n",
    "\n",
    "# and a template    \n",
    "start=24\n",
    "end=43\n",
    "f_template = f[start:end] \n",
    "\n",
    "# show the signal and the plot\n",
    "_=plt.figure(figsize=(20,6))\n",
    "gs = gridspec.GridSpec(1, 2, width_ratios=[4.5, 1]) \n",
    "_=plt.subplot(gs[0])\n",
    "_=plt.plot(np.rad2deg(t), f)\n",
    "ax=plt.subplot(gs[1])\n",
    "_=plt.plot(np.rad2deg(t[start:end]), f_template)\n",
    "plt.show()\n",
    "\n",
    "# show tempalte overlaid on the signal\n",
    "_=plt.figure(figsize=(15,6))\n",
    "plt.plot(np.rad2deg(t), f)\n",
    "plt.plot(np.rad2deg(t[start:end]), f_template)\n",
    "\n",
    "\n"
   ]
  },
  {
   "cell_type": "markdown",
   "metadata": {},
   "source": [
    "# Template Matching"
   ]
  },
  {
   "cell_type": "code",
   "execution_count": null,
   "metadata": {
    "collapsed": true
   },
   "outputs": [],
   "source": [
    "toucan_im.shape\n",
    "img.shape"
   ]
  },
  {
   "cell_type": "code",
   "execution_count": null,
   "metadata": {
    "collapsed": true
   },
   "outputs": [],
   "source": [
    "messi_im = cv2.imread('../images/messi.jpg')\n",
    "messi_im = cv2.cvtColor(messi_im,cv2.COLOR_BGR2RGB)\n",
    "messi_im = cv2.resize(messi_im, None,fx=0.1, fy =0.1,interpolation=cv2.INTER_CUBIC)\n",
    "orig = messi_im.copy()\n",
    "# orig = messi_im.copy().astype('float32')\n",
    "# orig-=np.min(orig)\n",
    "# orig/=np.max(orig)\n",
    "\n",
    "startX = 150\n",
    "width = 29\n",
    "startY = 20\n",
    "height = 41\n",
    "template = messi_im[ startY:startY+height, startX:startX+width,:]\n",
    "# template = template.astype('float32')\n",
    "# template-=np.min(template)\n",
    "# template/=np.max(template)\n",
    "\n",
    "messi_im.shape\n",
    "template.shape\n",
    "\n",
    "plt.figure(figsize=(10,8))\n",
    "plt.subplot(1,2,1)\n",
    "plt.imshow(template)\n",
    "plt.subplot(1,2,2)\n",
    "plt.imshow(orig)"
   ]
  },
  {
   "cell_type": "markdown",
   "metadata": {},
   "source": [
    "## Using OpenCV's built-in method "
   ]
  },
  {
   "cell_type": "code",
   "execution_count": null,
   "metadata": {
    "collapsed": true
   },
   "outputs": [],
   "source": [
    "orig=messi_im.copy()\n",
    "method=cv2.TM_CCOEFF\n",
    "h, w = template.shape[0:2]\n",
    "\n",
    "res = cv2.matchTemplate(messi_im,template,method)\n",
    "min_val, max_val, min_loc, max_loc = cv2.minMaxLoc(res)\n",
    "\n",
    "\n",
    "# If the method is TM_SQDIFF or TM_SQDIFF_NORMED, take minimum\n",
    "if method in [cv2.TM_SQDIFF, cv2.TM_SQDIFF_NORMED]:\n",
    "    top_left = min_loc\n",
    "else:\n",
    "    top_left = max_loc\n",
    "\n",
    "bottom_right = (top_left[0] + w, top_left[1] + h)\n",
    "\n",
    "matched_im = cv2.rectangle(orig,top_left, bottom_right, 255, 2)\n",
    "_=plt.figure(figsize=(15,10))\n",
    "_=plt.subplot(1,2,1)\n",
    "_=plt.title('matched location')\n",
    "_=plt.imshow(matched_im)\n",
    "_=plt.subplot(1,2,2)\n",
    "_=plt.title('response')\n",
    "_=plt.imshow(res,plt.cm.gray)\n"
   ]
  }
 ],
 "metadata": {
  "kernelspec": {
   "display_name": "Python 3",
   "language": "python",
   "name": "python3"
  },
  "language_info": {
   "codemirror_mode": {
    "name": "ipython",
    "version": 3
   },
   "file_extension": ".py",
   "mimetype": "text/x-python",
   "name": "python",
   "nbconvert_exporter": "python",
   "pygments_lexer": "ipython3",
   "version": "3.5.2"
  }
 },
 "nbformat": 4,
 "nbformat_minor": 2
}
